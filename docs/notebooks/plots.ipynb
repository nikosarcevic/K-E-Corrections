{
 "cells": [
  {
   "cell_type": "code",
   "execution_count": null,
   "id": "72db1f44-bcd3-422f-8653-bbc2cfd2cd62",
   "metadata": {
    "ExecuteTime": {
     "end_time": "2023-10-20T20:01:46.425289Z",
     "start_time": "2023-10-20T20:01:46.057007Z"
    }
   },
   "outputs": [],
   "source": [
    "from pathlib import Path\n",
    "\n",
    "import matplotlib.pyplot as plt\n",
    "import numpy as np\n",
    "\n",
    "from k_e_corrections import KECorrections"
   ]
  },
  {
   "cell_type": "code",
   "execution_count": null,
   "id": "5c378f70-3d83-40ad-a13c-5a5e640e4875",
   "metadata": {
    "ExecuteTime": {
     "end_time": "2023-10-20T20:01:46.429490Z",
     "start_time": "2023-10-20T20:01:46.427242Z"
    }
   },
   "outputs": [],
   "source": [
    "# Define the redshift range and\n",
    "# relevant comoslogical parameters\n",
    "redshift_range = np.linspace(0.01, 3.5, 300)\n",
    "h_0 = 67.27\n",
    "omega_m = 0.3156\n",
    "\n",
    "\n",
    "# Initialise the class\n",
    "corr = KECorrections(redshift_range=redshift_range, h_0=h_0, omega_m=omega_m)"
   ]
  },
  {
   "cell_type": "code",
   "execution_count": null,
   "id": "b1908b4f-bcda-4b0f-80bf-94cf9c3de58f",
   "metadata": {
    "ExecuteTime": {
     "end_time": "2023-10-20T20:01:46.561684Z",
     "start_time": "2023-10-20T20:01:46.471318Z"
    }
   },
   "outputs": [],
   "source": [
    "kcorr_spline = corr.make_kcorr_spline()\n",
    "orig_ecorr_spline = corr.make_ecorr_spline(original_z=True)\n",
    "ecorr_spline = corr.make_ecorr_spline(original_z=False)\n",
    "\n",
    "new_kcorr, new_ecorr = corr.get_color_corrections()"
   ]
  },
  {
   "cell_type": "code",
   "execution_count": null,
   "id": "28e0857679728286",
   "metadata": {
    "ExecuteTime": {
     "end_time": "2023-10-20T20:01:46.892933Z",
     "start_time": "2023-10-20T20:01:46.564166Z"
    }
   },
   "outputs": [],
   "source": [
    "lpink = \"#f1b6da\"\n",
    "dpink = \"#d01c8b\"\n",
    "lgreen = \"#b8e186\"\n",
    "dgreen = \"#4dac26\"\n",
    "\n",
    "# Set up the figure\n",
    "plt.rcParams[\"lines.linewidth\"] = 3.5\n",
    "\n",
    "fig, ax = plt.subplots(figsize=(7, 5))\n",
    "# Ticks settings\n",
    "ax.tick_params(direction=\"in\", which=\"both\", labelsize=15)\n",
    "ax.tick_params(length=6, width=1.5)\n",
    "\n",
    "# Plot old k and e corrections\n",
    "ax.plot(redshift_range, kcorr_spline(redshift_range), label=\"new $K$\", c=dpink)\n",
    "ax.plot(redshift_range, orig_ecorr_spline(redshift_range), label=\"new $E$\", c=dgreen)\n",
    "\n",
    "# Plot new corrections\n",
    "ax.plot(redshift_range, new_kcorr, label=\"old $K$\", c=lpink, ls=\"--\")\n",
    "ax.plot(redshift_range, new_ecorr, label=\"old $E$\", c=lgreen, ls=\"--\")\n",
    "\n",
    "vertical_line_position = 3\n",
    "ax.axvline(x=vertical_line_position, color=\"gray\", linestyle=\"-\", lw=2)\n",
    "\n",
    "# Annotate the vertical line with text\n",
    "annotation_text1 = \"original corrections\"\n",
    "annotation_text2 = \"extrapolated corrections\"\n",
    "ax.text(\n",
    "    vertical_line_position - 0.25,\n",
    "    0.5,\n",
    "    annotation_text1,\n",
    "    rotation=90,\n",
    "    fontsize=15,\n",
    "    verticalalignment=\"center\",\n",
    "    color=\"gray\",\n",
    ")\n",
    "\n",
    "ax.text(\n",
    "    vertical_line_position + 0.125,\n",
    "    0.5,\n",
    "    annotation_text2,\n",
    "    rotation=90,\n",
    "    fontsize=15,\n",
    "    verticalalignment=\"center\",\n",
    "    color=\"gray\",\n",
    ")\n",
    "\n",
    "ax.set_xlabel(\"Redshift, $z$\", fontsize=20)\n",
    "ax.set_ylabel(\"Correction\", fontsize=20)\n",
    "plt.legend(frameon=False, fontsize=15)\n",
    "\n",
    "fig_path = Path(\"plots_output/\")\n",
    "fig_path.mkdir(exist_ok=True)\n",
    "plt.savefig(fig_path / f\"k_and_e_corr_comparison.pdf\", bbox_inches=\"tight\")\n",
    "# plt.savefig(fig_path + f\"k_and_e_corr_comparison.png\", bbox_inches=\"tight\", dpi=300)"
   ]
  },
  {
   "cell_type": "code",
   "execution_count": null,
   "id": "e46a46c0-ae00-44c9-bd05-cfc124a20662",
   "metadata": {
    "ExecuteTime": {
     "end_time": "2023-10-20T20:01:46.997909Z",
     "start_time": "2023-10-20T20:01:46.897812Z"
    }
   },
   "outputs": [],
   "source": [
    "dpurple = \"#7b3294\"\n",
    "lpurple = \"#c2a5cf\"\n",
    "\n",
    "# Set up the figure\n",
    "plt.rcParams[\"lines.linewidth\"] = 3.5\n",
    "\n",
    "fig, ax = plt.subplots(figsize=(7, 5))\n",
    "# Ticks settings\n",
    "ax.tick_params(direction=\"in\", which=\"both\", labelsize=15)\n",
    "ax.tick_params(length=6, width=1.5)\n",
    "# plt.title(f\"Redshift dependent color corrections\", fontsize=20)\n",
    "\n",
    "plt.plot(redshift_range, new_kcorr + new_ecorr, c=dpurple, label=\"new\")  # new corrections\n",
    "plt.plot(\n",
    "    redshift_range,\n",
    "    kcorr_spline(redshift_range) + orig_ecorr_spline(redshift_range),\n",
    "    label=\"old\",\n",
    "    c=lpurple,\n",
    "    ls=\"--\",\n",
    ")  # old corrections\n",
    "\n",
    "plt.xlabel(\"redshift $z$\", fontsize=20)\n",
    "plt.ylabel(\"$K + E$ corrections\", fontsize=20)\n",
    "plt.legend(frameon=False, fontsize=15)\n",
    "\n",
    "fig_path = Path(\"plots_output/\")\n",
    "fig_path.mkdir(exist_ok=True)\n",
    "plt.savefig(fig_path / f\"k+e_corr_comparison.pdf\", bbox_inches=\"tight\")\n",
    "# plt.savefig(fig_path + f\"k+e_corr_comparison.png\", bbox_inches=\"tight\", dpi=300)"
   ]
  }
 ],
 "metadata": {
  "kernelspec": {
   "display_name": "Python 3 (ipykernel)",
   "language": "python",
   "name": "python3"
  },
  "language_info": {
   "codemirror_mode": {
    "name": "ipython",
    "version": 3
   },
   "file_extension": ".py",
   "mimetype": "text/x-python",
   "name": "python",
   "nbconvert_exporter": "python",
   "pygments_lexer": "ipython3",
   "version": "3.11.5"
  },
  "widgets": {
   "application/vnd.jupyter.widget-state+json": {
    "state": {},
    "version_major": 2,
    "version_minor": 0
   }
  }
 },
 "nbformat": 4,
 "nbformat_minor": 5
}
